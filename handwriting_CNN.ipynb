{
 "cells": [
  {
   "cell_type": "code",
   "execution_count": 1,
   "metadata": {},
   "outputs": [
    {
     "name": "stderr",
     "output_type": "stream",
     "text": [
      "Using TensorFlow backend.\n"
     ]
    }
   ],
   "source": [
    "import keras\n",
    "from keras.models import Sequential\n",
    "from keras.layers import Conv2D, MaxPooling2D, Dense, Flatten, Dropout, AveragePooling2D\n",
    "from keras.optimizers import Adam\n",
    "from keras.callbacks import TensorBoard\n",
    "\n",
    "import numpy as np\n",
    "import pandas as pd\n",
    "%matplotlib inline\n",
    "import matplotlib.pyplot as plt\n",
    "from sklearn.model_selection import train_test_split\n"
   ]
  },
  {
   "cell_type": "code",
   "execution_count": 4,
   "metadata": {},
   "outputs": [],
   "source": [
    "train_df = pd.read_csv('data/mnist_train.csv')\n",
    "test_df = pd.read_csv('data/mnist_test.csv')\n"
   ]
  },
  {
   "cell_type": "code",
   "execution_count": 5,
   "metadata": {},
   "outputs": [
    {
     "data": {
      "text/html": [
       "<div>\n",
       "<style scoped>\n",
       "    .dataframe tbody tr th:only-of-type {\n",
       "        vertical-align: middle;\n",
       "    }\n",
       "\n",
       "    .dataframe tbody tr th {\n",
       "        vertical-align: top;\n",
       "    }\n",
       "\n",
       "    .dataframe thead th {\n",
       "        text-align: right;\n",
       "    }\n",
       "</style>\n",
       "<table border=\"1\" class=\"dataframe\">\n",
       "  <thead>\n",
       "    <tr style=\"text-align: right;\">\n",
       "      <th></th>\n",
       "      <th>label</th>\n",
       "      <th>1x1</th>\n",
       "      <th>1x2</th>\n",
       "      <th>1x3</th>\n",
       "      <th>1x4</th>\n",
       "      <th>1x5</th>\n",
       "      <th>1x6</th>\n",
       "      <th>1x7</th>\n",
       "      <th>1x8</th>\n",
       "      <th>1x9</th>\n",
       "      <th>...</th>\n",
       "      <th>28x19</th>\n",
       "      <th>28x20</th>\n",
       "      <th>28x21</th>\n",
       "      <th>28x22</th>\n",
       "      <th>28x23</th>\n",
       "      <th>28x24</th>\n",
       "      <th>28x25</th>\n",
       "      <th>28x26</th>\n",
       "      <th>28x27</th>\n",
       "      <th>28x28</th>\n",
       "    </tr>\n",
       "  </thead>\n",
       "  <tbody>\n",
       "    <tr>\n",
       "      <th>0</th>\n",
       "      <td>5</td>\n",
       "      <td>0</td>\n",
       "      <td>0</td>\n",
       "      <td>0</td>\n",
       "      <td>0</td>\n",
       "      <td>0</td>\n",
       "      <td>0</td>\n",
       "      <td>0</td>\n",
       "      <td>0</td>\n",
       "      <td>0</td>\n",
       "      <td>...</td>\n",
       "      <td>0</td>\n",
       "      <td>0</td>\n",
       "      <td>0</td>\n",
       "      <td>0</td>\n",
       "      <td>0</td>\n",
       "      <td>0</td>\n",
       "      <td>0</td>\n",
       "      <td>0</td>\n",
       "      <td>0</td>\n",
       "      <td>0</td>\n",
       "    </tr>\n",
       "    <tr>\n",
       "      <th>1</th>\n",
       "      <td>0</td>\n",
       "      <td>0</td>\n",
       "      <td>0</td>\n",
       "      <td>0</td>\n",
       "      <td>0</td>\n",
       "      <td>0</td>\n",
       "      <td>0</td>\n",
       "      <td>0</td>\n",
       "      <td>0</td>\n",
       "      <td>0</td>\n",
       "      <td>...</td>\n",
       "      <td>0</td>\n",
       "      <td>0</td>\n",
       "      <td>0</td>\n",
       "      <td>0</td>\n",
       "      <td>0</td>\n",
       "      <td>0</td>\n",
       "      <td>0</td>\n",
       "      <td>0</td>\n",
       "      <td>0</td>\n",
       "      <td>0</td>\n",
       "    </tr>\n",
       "    <tr>\n",
       "      <th>2</th>\n",
       "      <td>4</td>\n",
       "      <td>0</td>\n",
       "      <td>0</td>\n",
       "      <td>0</td>\n",
       "      <td>0</td>\n",
       "      <td>0</td>\n",
       "      <td>0</td>\n",
       "      <td>0</td>\n",
       "      <td>0</td>\n",
       "      <td>0</td>\n",
       "      <td>...</td>\n",
       "      <td>0</td>\n",
       "      <td>0</td>\n",
       "      <td>0</td>\n",
       "      <td>0</td>\n",
       "      <td>0</td>\n",
       "      <td>0</td>\n",
       "      <td>0</td>\n",
       "      <td>0</td>\n",
       "      <td>0</td>\n",
       "      <td>0</td>\n",
       "    </tr>\n",
       "    <tr>\n",
       "      <th>3</th>\n",
       "      <td>1</td>\n",
       "      <td>0</td>\n",
       "      <td>0</td>\n",
       "      <td>0</td>\n",
       "      <td>0</td>\n",
       "      <td>0</td>\n",
       "      <td>0</td>\n",
       "      <td>0</td>\n",
       "      <td>0</td>\n",
       "      <td>0</td>\n",
       "      <td>...</td>\n",
       "      <td>0</td>\n",
       "      <td>0</td>\n",
       "      <td>0</td>\n",
       "      <td>0</td>\n",
       "      <td>0</td>\n",
       "      <td>0</td>\n",
       "      <td>0</td>\n",
       "      <td>0</td>\n",
       "      <td>0</td>\n",
       "      <td>0</td>\n",
       "    </tr>\n",
       "    <tr>\n",
       "      <th>4</th>\n",
       "      <td>9</td>\n",
       "      <td>0</td>\n",
       "      <td>0</td>\n",
       "      <td>0</td>\n",
       "      <td>0</td>\n",
       "      <td>0</td>\n",
       "      <td>0</td>\n",
       "      <td>0</td>\n",
       "      <td>0</td>\n",
       "      <td>0</td>\n",
       "      <td>...</td>\n",
       "      <td>0</td>\n",
       "      <td>0</td>\n",
       "      <td>0</td>\n",
       "      <td>0</td>\n",
       "      <td>0</td>\n",
       "      <td>0</td>\n",
       "      <td>0</td>\n",
       "      <td>0</td>\n",
       "      <td>0</td>\n",
       "      <td>0</td>\n",
       "    </tr>\n",
       "  </tbody>\n",
       "</table>\n",
       "<p>5 rows × 785 columns</p>\n",
       "</div>"
      ],
      "text/plain": [
       "   label  1x1  1x2  1x3  1x4  1x5  1x6  1x7  1x8  1x9  ...    28x19  28x20  \\\n",
       "0      5    0    0    0    0    0    0    0    0    0  ...        0      0   \n",
       "1      0    0    0    0    0    0    0    0    0    0  ...        0      0   \n",
       "2      4    0    0    0    0    0    0    0    0    0  ...        0      0   \n",
       "3      1    0    0    0    0    0    0    0    0    0  ...        0      0   \n",
       "4      9    0    0    0    0    0    0    0    0    0  ...        0      0   \n",
       "\n",
       "   28x21  28x22  28x23  28x24  28x25  28x26  28x27  28x28  \n",
       "0      0      0      0      0      0      0      0      0  \n",
       "1      0      0      0      0      0      0      0      0  \n",
       "2      0      0      0      0      0      0      0      0  \n",
       "3      0      0      0      0      0      0      0      0  \n",
       "4      0      0      0      0      0      0      0      0  \n",
       "\n",
       "[5 rows x 785 columns]"
      ]
     },
     "execution_count": 5,
     "metadata": {},
     "output_type": "execute_result"
    }
   ],
   "source": [
    "train_df.head()"
   ]
  },
  {
   "cell_type": "code",
   "execution_count": 6,
   "metadata": {},
   "outputs": [],
   "source": [
    "train_df = np.array(train_df,dtype='float32')\n",
    "test_df = np.array(test_df,dtype='float32')\n",
    "x_train =  train_df[:,1:] /255\n",
    "y_train =  train_df[:,0]\n",
    "\n",
    "x_test =  test_df[:,1:] /255\n",
    "y_test =  test_df[:,0]"
   ]
  },
  {
   "cell_type": "code",
   "execution_count": 7,
   "metadata": {},
   "outputs": [],
   "source": [
    "x_train, x_validate, y_train, y_validate = train_test_split(x_train, y_train, test_size = 0.2, random_state=12345)"
   ]
  },
  {
   "cell_type": "code",
   "execution_count": 8,
   "metadata": {},
   "outputs": [],
   "source": [
    "image_sample = x_test[300].reshape(28,28) #reshape into current dimension\n"
   ]
  },
  {
   "cell_type": "code",
   "execution_count": 9,
   "metadata": {},
   "outputs": [
    {
     "data": {
      "image/png": "[encoded data removed]",
      "text/plain": [
       "<Figure size 432x288 with 1 Axes>"
      ]
     },
     "metadata": {},
     "output_type": "display_data"
    }
   ],
   "source": [
    "plt.imshow(image_sample)\n",
    "plt.show()"
   ]
  },
  {
   "cell_type": "markdown",
   "metadata": {},
   "source": [
    "# Create CNN Model"
   ]
  },
  {
   "cell_type": "code",
   "execution_count": 10,
   "metadata": {},
   "outputs": [
    {
     "name": "stdout",
     "output_type": "stream",
     "text": [
      "x_train shape:(48000, 28, 28, 1)\n",
      "x_test shape:(10000, 28, 28, 1)\n",
      "x_validate shape:(12000, 28, 28, 1)\n"
     ]
    }
   ],
   "source": [
    "im_rows = 28\n",
    "im_cols = 28\n",
    "batch_size = 512\n",
    "im_shape = (im_rows, im_cols, 1)\n",
    "\n",
    "x_train = x_train.reshape(x_train.shape[0], *im_shape)\n",
    "x_test = x_test.reshape(x_test.shape[0], *im_shape)\n",
    "x_validate = x_validate.reshape(x_validate.shape[0], *im_shape)\n",
    "\n",
    "print('x_train shape:{}'.format(x_train.shape))\n",
    "print('x_test shape:{}'.format(x_test.shape))\n",
    "print('x_validate shape:{}'.format(x_validate.shape))\n"
   ]
  },
  {
   "cell_type": "code",
   "execution_count": 23,
   "metadata": {},
   "outputs": [],
   "source": [
    "name = 'model_1'\n",
    "cnn_model_1 = Sequential([\n",
    "    Conv2D(filters=64, kernel_size=1, activation='relu', input_shape = im_shape, name='Conv2D-1'),\n",
    "    MaxPooling2D(pool_size=3, name='MaxPool-1'),\n",
    "    Conv2D(filters=128, kernel_size=1, activation='relu', input_shape = im_shape, name='Conv2D-2'),\n",
    "    MaxPooling2D(pool_size=1, name='MaxPool-2'),\n",
    "    Dropout(0.2, name='Dropout'),\n",
    "    Flatten(name='Flatten'),\n",
    "    Dense(128, activation='relu', name='Dense_2'),\n",
    "    Dense(64, activation='relu', name='Dense_3'),\n",
    "    Dense(10, activation='softmax', name='Output')\n",
    "    \n",
    "],name=name)\n",
    "\n",
    "name = 'model_2'\n",
    "cnn_model_2 = Sequential([\n",
    "    Conv2D(filters=64, kernel_size=1, activation='relu', input_shape = im_shape, name='Conv2D-1'),\n",
    "    AveragePooling2D(pool_size=3, name='avgPool-1'),\n",
    "    Conv2D(filters=128, kernel_size=1, activation='relu', input_shape = im_shape, name='Conv2D-2'),\n",
    "    AveragePooling2D(pool_size=1, name='AvgPool-2'),\n",
    "    Dropout(0.2, name='Dropout'),\n",
    "    Flatten(name='Flatten'),\n",
    "    Dense(128, activation='relu', name='Dense_2'),\n",
    "    Dense(64, activation='relu', name='Dense_3'),\n",
    "    Dense(10, activation='softmax', name='Output')\n",
    "    \n",
    "],name=name)\n",
    "\n",
    "\"\"\"name = 'model_3'\n",
    "cnn_model_3 = Sequential([\n",
    "    Conv2D(filters=64, kernel_size=1, activation='relu', input_shape = im_shape, name='Conv2D-1'),\n",
    "    MaxPooling2D(pool_size=3, name='maxPool-1'),\n",
    "    Conv2D(filters=128, kernel_size=1, activation='relu', input_shape = im_shape, name='Conv2D-2'),\n",
    "    AveragePooling2D(pool_size=1, name='avgPool-1'),\n",
    "    Conv2D(filters=64, kernel_size=1, activation='relu', input_shape = im_shape, name='Conv2D-3'),\n",
    "    MaxPooling2D(pool_size=3, name='maxPool-2'),\n",
    "    Conv2D(filters=128, kernel_size=1, activation='relu', input_shape = im_shape, name='Conv2D-4'),\n",
    "    AveragePooling2D(pool_size=1, name='avgPool-2'),\n",
    "    #Dropout(0.2, name='Dropout'),\n",
    "    Flatten(name='Flatten'),\n",
    "    Dense(128, activation='relu', name='Dense_1'),\n",
    "    Dense(128, activation='relu', name='Dense_2'),\n",
    "    Dense(64, activation='relu', name='Dense_3'),\n",
    "    Dense(2, activation='softmax', name='Output')\n",
    "],name=name)\"\"\"\n",
    "\n",
    "cnn_models = [cnn_model_1, cnn_model_2]\n",
    "              #cnn_model_3]"
   ]
  },
  {
   "cell_type": "code",
   "execution_count": 25,
   "metadata": {},
   "outputs": [
    {
     "data": {
      "text/plain": [
       "(28, 28, 1)"
      ]
     },
     "execution_count": 25,
     "metadata": {},
     "output_type": "execute_result"
    }
   ],
   "source": [
    "im_shape"
   ]
  },
  {
   "cell_type": "code",
   "execution_count": 24,
   "metadata": {},
   "outputs": [
    {
     "name": "stdout",
     "output_type": "stream",
     "text": [
      "_________________________________________________________________\n",
      "Layer (type)                 Output Shape              Param #   \n",
      "=================================================================\n",
      "Conv2D-1 (Conv2D)            (None, 28, 28, 64)        128       \n",
      "_________________________________________________________________\n",
      "MaxPool-1 (MaxPooling2D)     (None, 9, 9, 64)          0         \n",
      "_________________________________________________________________\n",
      "Conv2D-2 (Conv2D)            (None, 9, 9, 128)         8320      \n",
      "_________________________________________________________________\n",
      "MaxPool-2 (MaxPooling2D)     (None, 9, 9, 128)         0         \n",
      "_________________________________________________________________\n",
      "Dropout (Dropout)            (None, 9, 9, 128)         0         \n",
      "_________________________________________________________________\n",
      "Flatten (Flatten)            (None, 10368)             0         \n",
      "_________________________________________________________________\n",
      "Dense_2 (Dense)              (None, 128)               1327232   \n",
      "_________________________________________________________________\n",
      "Dense_3 (Dense)              (None, 64)                8256      \n",
      "_________________________________________________________________\n",
      "Output (Dense)               (None, 10)                650       \n",
      "=================================================================\n",
      "Total params: 1,344,586\n",
      "Trainable params: 1,344,586\n",
      "Non-trainable params: 0\n",
      "_________________________________________________________________\n",
      "_________________________________________________________________\n",
      "Layer (type)                 Output Shape              Param #   \n",
      "=================================================================\n",
      "Conv2D-1 (Conv2D)            (None, 28, 28, 64)        128       \n",
      "_________________________________________________________________\n",
      "avgPool-1 (AveragePooling2D) (None, 9, 9, 64)          0         \n",
      "_________________________________________________________________\n",
      "Conv2D-2 (Conv2D)            (None, 9, 9, 128)         8320      \n",
      "_________________________________________________________________\n",
      "AvgPool-2 (AveragePooling2D) (None, 9, 9, 128)         0         \n",
      "_________________________________________________________________\n",
      "Dropout (Dropout)            (None, 9, 9, 128)         0         \n",
      "_________________________________________________________________\n",
      "Flatten (Flatten)            (None, 10368)             0         \n",
      "_________________________________________________________________\n",
      "Dense_2 (Dense)              (None, 128)               1327232   \n",
      "_________________________________________________________________\n",
      "Dense_3 (Dense)              (None, 64)                8256      \n",
      "_________________________________________________________________\n",
      "Output (Dense)               (None, 10)                650       \n",
      "=================================================================\n",
      "Total params: 1,344,586\n",
      "Trainable params: 1,344,586\n",
      "Non-trainable params: 0\n",
      "_________________________________________________________________\n"
     ]
    }
   ],
   "source": [
    "for model in cnn_models:\n",
    "    model.summary()"
   ]
  },
  {
   "cell_type": "code",
   "execution_count": 26,
   "metadata": {},
   "outputs": [
    {
     "name": "stdout",
     "output_type": "stream",
     "text": [
      "Train on 48000 samples, validate on 12000 samples\n",
      "Epoch 1/10\n",
      "48000/48000 [==============================] - 48s 999us/step - loss: 0.6686 - acc: 0.7996 - val_loss: 0.3660 - val_acc: 0.8868\n",
      "Epoch 2/10\n",
      "48000/48000 [==============================] - 48s 994us/step - loss: 0.3400 - acc: 0.8942 - val_loss: 0.3076 - val_acc: 0.9032\n",
      "Epoch 3/10\n",
      "48000/48000 [==============================] - 46s 959us/step - loss: 0.2838 - acc: 0.9109 - val_loss: 0.2758 - val_acc: 0.9127\n",
      "Epoch 4/10\n",
      "48000/48000 [==============================] - 45s 937us/step - loss: 0.2424 - acc: 0.9235 - val_loss: 0.2211 - val_acc: 0.9303\n",
      "Epoch 5/10\n",
      "48000/48000 [==============================] - 45s 937us/step - loss: 0.2152 - acc: 0.9309 - val_loss: 0.2249 - val_acc: 0.9297\n",
      "Epoch 6/10\n",
      "48000/48000 [==============================] - 45s 946us/step - loss: 0.1997 - acc: 0.9352 - val_loss: 0.2020 - val_acc: 0.9383\n",
      "Epoch 7/10\n",
      "48000/48000 [==============================] - 46s 963us/step - loss: 0.1840 - acc: 0.9410 - val_loss: 0.2006 - val_acc: 0.9386\n",
      "Epoch 8/10\n",
      "48000/48000 [==============================] - 46s 962us/step - loss: 0.1722 - acc: 0.9439 - val_loss: 0.1837 - val_acc: 0.9433\n",
      "Epoch 9/10\n",
      "48000/48000 [==============================] - 47s 980us/step - loss: 0.1627 - acc: 0.9477 - val_loss: 0.1879 - val_acc: 0.9408\n",
      "Epoch 10/10\n",
      "48000/48000 [==============================] - 52s 1ms/step - loss: 0.1528 - acc: 0.9504 - val_loss: 0.1769 - val_acc: 0.9466\n",
      "Train on 48000 samples, validate on 12000 samples\n",
      "Epoch 1/10\n",
      "48000/48000 [==============================] - 47s 980us/step - loss: 0.6630 - acc: 0.8255 - val_loss: 0.3106 - val_acc: 0.9078\n",
      "Epoch 2/10\n",
      "48000/48000 [==============================] - 47s 971us/step - loss: 0.2832 - acc: 0.9158 - val_loss: 0.2481 - val_acc: 0.9253\n",
      "Epoch 3/10\n",
      "48000/48000 [==============================] - 50s 1ms/step - loss: 0.2163 - acc: 0.9351 - val_loss: 0.1900 - val_acc: 0.9453\n",
      "Epoch 4/10\n",
      "48000/48000 [==============================] - 53s 1ms/step - loss: 0.1691 - acc: 0.9492 - val_loss: 0.1495 - val_acc: 0.9572\n",
      "Epoch 5/10\n",
      "48000/48000 [==============================] - 51s 1ms/step - loss: 0.1384 - acc: 0.9588 - val_loss: 0.1366 - val_acc: 0.9601\n",
      "Epoch 6/10\n",
      "48000/48000 [==============================] - 50s 1ms/step - loss: 0.1200 - acc: 0.9626 - val_loss: 0.1278 - val_acc: 0.9638\n",
      "Epoch 7/10\n",
      "48000/48000 [==============================] - 51s 1ms/step - loss: 0.1063 - acc: 0.9668 - val_loss: 0.1247 - val_acc: 0.9627\n",
      "Epoch 8/10\n",
      "48000/48000 [==============================] - 50s 1ms/step - loss: 0.0929 - acc: 0.9710 - val_loss: 0.1097 - val_acc: 0.9676\n",
      "Epoch 9/10\n",
      "48000/48000 [==============================] - 50s 1ms/step - loss: 0.0878 - acc: 0.9726 - val_loss: 0.0977 - val_acc: 0.9711\n",
      "Epoch 10/10\n",
      "48000/48000 [==============================] - 50s 1ms/step - loss: 0.0762 - acc: 0.9758 - val_loss: 0.1002 - val_acc: 0.9698\n"
     ]
    }
   ],
   "source": [
    "history_dict = {}\n",
    "for model in cnn_models:\n",
    "    model.compile(\n",
    "        loss='sparse_categorical_crossentropy',\n",
    "        optimizer = Adam(),\n",
    "        metrics=['accuracy'])\n",
    "    history = model.fit(\n",
    "        x_train, y_train,\n",
    "        batch_size=batch_size,\n",
    "        epochs=10, verbose=True,\n",
    "        validation_data=(x_validate, y_validate))\n",
    "    history_dict[model.name] = history\n",
    "    \n"
   ]
  },
  {
   "cell_type": "code",
   "execution_count": 27,
   "metadata": {},
   "outputs": [
    {
     "data": {
      "image/png": "[encoded data removed]",
      "text/plain": [
       "<Figure size 720x576 with 2 Axes>"
      ]
     },
     "metadata": {},
     "output_type": "display_data"
    }
   ],
   "source": [
    "fig, (ax1, ax2) = plt.subplots(2, figsize = (10, 8))\n",
    "\n",
    "for history in history_dict:\n",
    "    val_acc = history_dict[history].history['val_acc']\n",
    "    val_loss = history_dict[history].history['val_loss']\n",
    "    ax1.plot(val_acc, label=history)\n",
    "    ax2.plot(val_loss, label=history)\n",
    "    \n",
    "ax1.set_ylabel('Validation Accuracy')\n",
    "ax2.set_ylabel('Validation Loss')\n",
    "ax2.set_xlabel('epochs')\n",
    "ax1.legend()\n",
    "ax2.legend()\n",
    "plt.show()"
   ]
  },
  {
   "cell_type": "code",
   "execution_count": 28,
   "metadata": {},
   "outputs": [
    {
     "name": "stdout",
     "output_type": "stream",
     "text": [
      "10000/10000 [==============================] - 2s 207us/step\n",
      "Test Loss : 0.1729\n",
      "Test Acc  : 0.9447\n"
     ]
    }
   ],
   "source": [
    "score = cnn_model_1.evaluate(x_test, y_test, verbose=1)\n",
    "print('Test Loss : {:.4f}'.format(score[0]))\n",
    "print('Test Acc  : {:.4f}'.format(score[1]))\n"
   ]
  },
  {
   "cell_type": "code",
   "execution_count": 68,
   "metadata": {},
   "outputs": [
    {
     "name": "stdout",
     "output_type": "stream",
     "text": [
      "4433/4433 [==============================] - 1s 202us/step\n",
      "Train Loss : 0.2474\n",
      "Train Acc  : 0.8928\n"
     ]
    }
   ],
   "source": [
    "score = cnn_model_1.evaluate(x_train, y_train, verbose=1)\n",
    "print('Train Loss : {:.4f}'.format(score[0]))\n",
    "print('Train Acc  : {:.4f}'.format(score[1]))"
   ]
  },
  {
   "cell_type": "code",
   "execution_count": 29,
   "metadata": {},
   "outputs": [
    {
     "name": "stdout",
     "output_type": "stream",
     "text": [
      "10000/10000 [==============================] - 2s 204us/step\n",
      "Test Loss : 0.0879\n",
      "Test Acc  : 0.9712\n"
     ]
    }
   ],
   "source": [
    "score = cnn_model_2.evaluate(x_test, y_test, verbose=1)\n",
    "print('Test Loss : {:.4f}'.format(score[0]))\n",
    "print('Test Acc  : {:.4f}'.format(score[1]))\n"
   ]
  },
  {
   "cell_type": "code",
   "execution_count": 69,
   "metadata": {},
   "outputs": [
    {
     "name": "stdout",
     "output_type": "stream",
     "text": [
      "4433/4433 [==============================] - 1s 194us/step\n",
      "Train Loss : 0.3098\n",
      "Train Acc  : 0.8676\n"
     ]
    }
   ],
   "source": [
    "score = cnn_model_2.evaluate(x_train, y_train, verbose=1)\n",
    "print('Train Loss : {:.4f}'.format(score[0]))\n",
    "print('Train Acc  : {:.4f}'.format(score[1]))"
   ]
  },
  {
   "cell_type": "code",
   "execution_count": 14,
   "metadata": {},
   "outputs": [
    {
     "name": "stdout",
     "output_type": "stream",
     "text": [
      "624/624 [==============================] - 0s 222us/step\n",
      "Test Loss : 0.5553\n",
      "Test Acc  : 0.7644\n"
     ]
    }
   ],
   "source": [
    "score = cnn_model_3.evaluate(x_test, y_test, verbose=1)\n",
    "print('Test Loss : {:.4f}'.format(score[0]))\n",
    "print('Test Acc  : {:.4f}'.format(score[1]))\n"
   ]
  },
  {
   "cell_type": "code",
   "execution_count": 70,
   "metadata": {},
   "outputs": [
    {
     "name": "stdout",
     "output_type": "stream",
     "text": [
      "4433/4433 [==============================] - 1s 195us/step\n",
      "Train Loss : 0.2590\n",
      "Train Acc  : 0.8949\n"
     ]
    }
   ],
   "source": [
    "score = cnn_model_3.evaluate(x_train, y_train, verbose=1)\n",
    "print('Train Loss : {:.4f}'.format(score[0]))\n",
    "print('Train Acc  : {:.4f}'.format(score[1]))\n"
   ]
  },
  {
   "cell_type": "code",
   "execution_count": 30,
   "metadata": {},
   "outputs": [],
   "source": [
    "# We know that MNIST images are 28 pixels in each dimension.\n",
    "img_size = 28\n",
    "\n",
    "# Images are stored in one-dimensional arrays of this length.\n",
    "img_size_flat = img_size * img_size\n",
    "\n",
    "# Tuple with height and width of images used to reshape arrays.\n",
    "# This is used for plotting the images.\n",
    "img_shape = (img_size, img_size)\n",
    "\n",
    "# Tuple with height, width and depth used to reshape arrays.\n",
    "# This is used for reshaping in Keras.\n",
    "img_shape_full = (img_size, img_size, 1)\n",
    "\n",
    "# Number of colour channels for the images: 1 channel for gray-scale.\n",
    "num_channels = 1\n",
    "\n",
    "# Number of classes, one class for each of 10 digits.\n",
    "num_classes = 2\n",
    "\n",
    "#labels = ['Normal\\n', 'Pneumonia\\n']\n",
    "labels = [0,1,2,3,4,5,6,7,8,9]\n"
   ]
  },
  {
   "cell_type": "code",
   "execution_count": 36,
   "metadata": {},
   "outputs": [],
   "source": [
    "def plot_images(images, cls_true, cls_pred=None):\n",
    "    assert len(images) == len(cls_true) == 16\n",
    "    \n",
    "    # Create figure with 4x4 sub-plots.\n",
    "    fig, axes = plt.subplots(4, 4)\n",
    "    fig.subplots_adjust(hspace=1.0, wspace=0.3)\n",
    "\n",
    "    for i, ax in enumerate(axes.flat):\n",
    "        # Plot image.\n",
    "        ax.imshow(images[i].reshape(img_shape), cmap='binary')\n",
    "\n",
    "        # Show true and predicted classes.\n",
    "        if cls_pred is None:\n",
    "            xlabel = \"True: {0}\".format(cls_true[i])\n",
    "        else:\n",
    "            xlabel = \"True: {0}, \\n Pred: {1}\".format(cls_true[i], cls_pred[i])\n",
    "\n",
    "        # Show the classes as the label on the x-axis.\n",
    "        ax.set_xlabel(xlabel)\n",
    "        \n",
    "        # Remove ticks from the plot.\n",
    "        ax.set_xticks([])\n",
    "        ax.set_yticks([])\n",
    "    \n",
    "    # Ensure the plot is shown correctly with multiple plots\n",
    "    # in a single Notebook cell.\n",
    "    plt.show()"
   ]
  },
  {
   "cell_type": "code",
   "execution_count": 44,
   "metadata": {
    "scrolled": true
   },
   "outputs": [
    {
     "data": {
      "image/png": "[encoded data removed]",
      "text/plain": [
       "<Figure size 432x288 with 16 Axes>"
      ]
     },
     "metadata": {},
     "output_type": "display_data"
    }
   ],
   "source": [
    "# Get the first images from the test-set.\n",
    "random_data = np.random.randint(623, size= 16)\n",
    "images = x_test[random_data]\n",
    "cls_true = y_test[random_data]\n",
    "cls_true = cls_true.astype(int)\n",
    "cls_lbl = []\n",
    "for i in range(len(cls_true)):\n",
    "    cls_lbl = np.append(cls_lbl, labels[cls_true[i]])\n",
    "    \n",
    "# Get the true classes for those images.\n",
    "cls_true = y_test[random_data]\n",
    "# Plot the images and labels using our helper-function above.\n",
    "plot_images(images=images, cls_true=cls_lbl)"
   ]
  },
  {
   "cell_type": "code",
   "execution_count": 45,
   "metadata": {},
   "outputs": [
    {
     "name": "stdout",
     "output_type": "stream",
     "text": [
      "[ 41 142 545 382 359   0 519 538 155 504 284 246 571 400 333 531]\n"
     ]
    }
   ],
   "source": [
    "print(random_data)"
   ]
  },
  {
   "cell_type": "markdown",
   "metadata": {},
   "source": [
    "#  Model 1 "
   ]
  },
  {
   "cell_type": "code",
   "execution_count": 46,
   "metadata": {},
   "outputs": [
    {
     "data": {
      "image/png": "[encoded data removed]",
      "text/plain": [
       "<Figure size 432x288 with 16 Axes>"
      ]
     },
     "metadata": {},
     "output_type": "display_data"
    }
   ],
   "source": [
    "\n",
    "#Predict\n",
    "#images = x_test[500:516]\n",
    "\n",
    "images = x_test[random_data]\n",
    "\n",
    "y_pred = cnn_model_1.predict(x=images) #swicth to model that we use \n",
    "cls_pred = np.argmax(y_pred,axis=1)\n",
    "cls_lbl_pred = []\n",
    "for i in range(len(y_pred)):\n",
    "    cls_lbl_pred = np.append(cls_lbl_pred, labels[cls_pred[i]])\n",
    "    \n",
    "\n",
    "plot_images(images=images,\n",
    "            cls_true=cls_lbl,\n",
    "            cls_pred=cls_lbl_pred)\n",
    "\n"
   ]
  },
  {
   "cell_type": "markdown",
   "metadata": {},
   "source": [
    "# Model 2"
   ]
  },
  {
   "cell_type": "code",
   "execution_count": 47,
   "metadata": {},
   "outputs": [
    {
     "data": {
      "image/png": "[encoded data removed]",
      "text/plain": [
       "<Figure size 432x288 with 16 Axes>"
      ]
     },
     "metadata": {},
     "output_type": "display_data"
    }
   ],
   "source": [
    "#Predict\n",
    "#images = x_test[500:516]\n",
    "\n",
    "images = x_test[random_data]\n",
    "\n",
    "y_pred = cnn_model_2.predict(x=images) #swicth to model that we use \n",
    "cls_pred = np.argmax(y_pred,axis=1)\n",
    "cls_lbl_pred = []\n",
    "for i in range(len(y_pred)):\n",
    "    cls_lbl_pred = np.append(cls_lbl_pred, labels[cls_pred[i]])\n",
    "    \n",
    "\n",
    "plot_images(images=images,\n",
    "            cls_true=cls_lbl,\n",
    "            cls_pred=cls_lbl_pred)"
   ]
  }
 ],
 "metadata": {
  "kernelspec": {
   "display_name": "Python 3",
   "language": "python",
   "name": "python3"
  },
  "language_info": {
   "codemirror_mode": {
    "name": "ipython",
    "version": 3
   },
   "file_extension": ".py",
   "mimetype": "text/x-python",
   "name": "python",
   "nbconvert_exporter": "python",
   "pygments_lexer": "ipython3",
   "version": "3.6.5"
  }
 },
 "nbformat": 4,
 "nbformat_minor": 2
}
